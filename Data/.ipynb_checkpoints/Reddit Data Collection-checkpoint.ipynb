{
 "cells": [
  {
   "cell_type": "raw",
   "metadata": {},
   "source": []
  },
  {
   "cell_type": "code",
   "execution_count": 1,
   "metadata": {},
   "outputs": [],
   "source": [
    "import praw\n",
    "import json\n",
    "import requests"
   ]
  },
  {
   "cell_type": "code",
   "execution_count": 2,
   "metadata": {},
   "outputs": [],
   "source": [
    "import pandas as pd\n",
    "import datetime as dt"
   ]
  },
  {
   "cell_type": "code",
   "execution_count": 3,
   "metadata": {},
   "outputs": [],
   "source": [
    "reddit=praw.Reddit(client_id='YZJEVtC4Kk6F3g',\n",
    "                   client_secret='_iCj6fyNAHfgDUfd3SRKUL-Bipo',\n",
    "                   user_agent='Reddit_Data_Collection',\n",
    "                   username='Shoumik3011',\n",
    "                   password='Choocho@30')"
   ]
  },
  {
   "cell_type": "code",
   "execution_count": 4,
   "metadata": {},
   "outputs": [],
   "source": [
    "#def create_reddit_object(json_file=\"reddit_config.json\",json_key=\"reddit_user_values\"):\n",
    "    \n",
    "#   with open(json_file) as f:\n",
    "#       data=json.load(f)\n",
    "        \n",
    "#    user_values=data[json_key]\n",
    "    \n",
    "#    reddit=praw.Reddit(client_id='YZJEVtC4Kk6F3g',\n",
    "#                   client_secret='_iCj6fyNAHfgDUfd3SRKUL-Bipo',\n",
    "#                   user_agent='Reddit_Data_Collection',\n",
    "#                   username='Shoumik3011',\n",
    "#                  password='Choocho@30')\n",
    "#    return reddit "
   ]
  },
  {
   "cell_type": "code",
   "execution_count": 5,
   "metadata": {},
   "outputs": [],
   "source": [
    "#reddit=create_reddit_object()"
   ]
  },
  {
   "cell_type": "code",
   "execution_count": 6,
   "metadata": {},
   "outputs": [],
   "source": [
    "subred=reddit.subreddit('India')"
   ]
  },
  {
   "cell_type": "code",
   "execution_count": null,
   "metadata": {},
   "outputs": [],
   "source": []
  },
  {
   "cell_type": "raw",
   "metadata": {},
   "source": []
  },
  {
   "cell_type": "code",
   "execution_count": 7,
   "metadata": {},
   "outputs": [],
   "source": [
    "flair_dict={0:'Political',1:'Non-political',2:'AskIndia',3:'Science & Technology',4:'Policy & Economy',5:'Finance & Business',6:'Sports and food',7:'Photography',8:'coronavirus',9:'Reddiquette'}"
   ]
  },
  {
   "cell_type": "code",
   "execution_count": 8,
   "metadata": {},
   "outputs": [],
   "source": [
    "topics_dict = { \"title\":[], \\\n",
    "                \"score\":[],\\\n",
    "                \"id\":[],\"url\":[],\\\n",
    "                \"num_of_comments\": [], \\\n",
    "                \"created\": [], \\\n",
    "                \"body\":[], \\\n",
    "                \"flair\":[],\\\n",
    "                \"flair_num\":[]\n",
    "              }"
   ]
  },
  {
   "cell_type": "code",
   "execution_count": null,
   "metadata": {},
   "outputs": [],
   "source": [
    "#x=next(hot_subreds)"
   ]
  },
  {
   "cell_type": "code",
   "execution_count": null,
   "metadata": {},
   "outputs": [],
   "source": [
    "for flair in  flair_dict:\n",
    "    for submission in subred.search(flair_dict[flair],limit=1000):\n",
    "        topics_dict[\"title\"].append(submission.title)\n",
    "        topics_dict[\"score\"].append(submission.score)\n",
    "        topics_dict[\"id\"].append(submission.id)\n",
    "        topics_dict[\"url\"].append(submission.url)\n",
    "        topics_dict[\"num_of_comments\"].append(submission.num_comments)\n",
    "        topics_dict[\"created\"].append(submission.created)\n",
    "        topics_dict[\"body\"].append(submission.selftext)\n",
    "        topics_dict[\"flair\"].append(submission.link_flair_text)\n",
    "        topics_dict[\"flair_num\"].append(flair)\n",
    "    "
   ]
  },
  {
   "cell_type": "code",
   "execution_count": null,
   "metadata": {},
   "outputs": [],
   "source": [
    "dir(submission)"
   ]
  },
  {
   "cell_type": "code",
   "execution_count": null,
   "metadata": {},
   "outputs": [],
   "source": []
  },
  {
   "cell_type": "code",
   "execution_count": null,
   "metadata": {},
   "outputs": [],
   "source": [
    "topics_data = pd.DataFrame(topics_dict)"
   ]
  },
  {
   "cell_type": "code",
   "execution_count": null,
   "metadata": {},
   "outputs": [],
   "source": [
    "topics_data"
   ]
  },
  {
   "cell_type": "code",
   "execution_count": null,
   "metadata": {},
   "outputs": [],
   "source": [
    "#def get_date(created):\n",
    "#    return dt.datetime.fromtimestamp(created)"
   ]
  },
  {
   "cell_type": "code",
   "execution_count": null,
   "metadata": {},
   "outputs": [],
   "source": [
    "#_timestamp = topics_data[\"created\"].apply(get_date)"
   ]
  },
  {
   "cell_type": "code",
   "execution_count": null,
   "metadata": {},
   "outputs": [],
   "source": [
    "#topics_data = topics_data.assign(timestamp = _timestamp)"
   ]
  },
  {
   "cell_type": "code",
   "execution_count": null,
   "metadata": {},
   "outputs": [],
   "source": [
    "#topics_data"
   ]
  },
  {
   "cell_type": "code",
   "execution_count": null,
   "metadata": {},
   "outputs": [],
   "source": [
    "topics_data.to_csv('reddata.csv',index=False)"
   ]
  },
  {
   "cell_type": "code",
   "execution_count": null,
   "metadata": {},
   "outputs": [],
   "source": [
    "len(topics_data['title'])"
   ]
  },
  {
   "cell_type": "code",
   "execution_count": null,
   "metadata": {},
   "outputs": [],
   "source": [
    "df=pd.read_csv('reddata.csv')"
   ]
  },
  {
   "cell_type": "code",
   "execution_count": null,
   "metadata": {},
   "outputs": [],
   "source": [
    "df.head()"
   ]
  },
  {
   "cell_type": "code",
   "execution_count": null,
   "metadata": {},
   "outputs": [],
   "source": [
    "gb= df.groupby('flair')"
   ]
  },
  {
   "cell_type": "code",
   "execution_count": null,
   "metadata": {},
   "outputs": [],
   "source": [
    "a=gb.get_group('Coronavirus')\n",
    "b=gb.get_group('Politics')\n",
    "c=gb.get_group('Non-Political')\n",
    "d=gb.get_group('Business/Finance')\n",
    "e=gb.get_group('Policy/Economy')\n",
    "f=gb.get_group('Science & Technology')\n",
    "g=gb.get_group('Food')\n",
    "h=gb.get_group('Sports')\n",
    "i=gb.get_group('AskIndia')\n",
    "j=i=gb.get_group('Photography')"
   ]
  },
  {
   "cell_type": "code",
   "execution_count": null,
   "metadata": {},
   "outputs": [],
   "source": [
    "a"
   ]
  },
  {
   "cell_type": "code",
   "execution_count": null,
   "metadata": {},
   "outputs": [],
   "source": [
    "#a.to_csv(\"corona.csv\",index=False)\n",
    "#b.to_csv(\"politics.csv\",index=False)\n",
    "#c.to_csv(\"Non-Political.csv\",index=False)\n",
    "#d.to_csv(\"Business&Finance.csv\",index=False)\n",
    "#e.to_csv(\"Policy&Economy.csv\",index=False)\n",
    "#f.to_csv(\"Science&Technology.csv\",index=False)\n",
    "#g.to_csv(\"Food.csv\",index=False)\n",
    "#h.to_csv(\"Sports.csv\",index=False)\n",
    "#i.to_csv(\"Ask_India.csv\",index=False)\n",
    "#j.to_csv(\"photo.csv\",index=False)"
   ]
  },
  {
   "cell_type": "code",
   "execution_count": null,
   "metadata": {},
   "outputs": [],
   "source": [
    "flair_dict[0]"
   ]
  },
  {
   "cell_type": "code",
   "execution_count": null,
   "metadata": {},
   "outputs": [],
   "source": [
    "dir(gb)"
   ]
  },
  {
   "cell_type": "code",
   "execution_count": null,
   "metadata": {},
   "outputs": [],
   "source": []
  },
  {
   "cell_type": "code",
   "execution_count": null,
   "metadata": {},
   "outputs": [],
   "source": []
  },
  {
   "cell_type": "code",
   "execution_count": null,
   "metadata": {},
   "outputs": [],
   "source": []
  }
 ],
 "metadata": {
  "kernelspec": {
   "display_name": "Python 3",
   "language": "python",
   "name": "python3"
  },
  "language_info": {
   "codemirror_mode": {
    "name": "ipython",
    "version": 3
   },
   "file_extension": ".py",
   "mimetype": "text/x-python",
   "name": "python",
   "nbconvert_exporter": "python",
   "pygments_lexer": "ipython3",
   "version": "3.7.3"
  }
 },
 "nbformat": 4,
 "nbformat_minor": 2
}
