{
 "cells": [
  {
   "cell_type": "code",
   "execution_count": 5,
   "metadata": {},
   "outputs": [],
   "source": [
    "f = open(\"./test.txt\",\"rb\")\n",
    "g = f.read()\n"
   ]
  },
  {
   "cell_type": "code",
   "execution_count": 6,
   "metadata": {},
   "outputs": [
    {
     "data": {
      "text/plain": [
       "b'https://www.reddit.com/r/india/comments/futac9/pitting_a_community_against_a_political_party_is/\\r\\nhttps://theprint.in/india/hit-by-backlash-over-posts-on-lack-of-medical-gear-doctors-go-silent-on-socialmedia/388771/amp&__twitter_impression=true\\r\\nhttps://i.redd.it/yjo9wpy38el41.jpg\\r\\nhttps://www.reddit.com/r/india/comments/flm79b/in_this_trying_time_lets_try_to_be_a_little_less/\\r\\nhttps://www.reddit.com/r/india/comments/g2ct57/a_polite_request_to_all_indians_here/\\r\\nhttps://i.redd.it/hk9o11b8dun41.png\\r\\nhttps://www.reddit.com/r/india/comments/fyccbi/why_do_we_only_question_our_celebrities_and_not/\\r\\nhttps://i.redd.it/fejjkle4i0m41.jpg\\r\\nhttps://www.reddit.com/r/india/comments/ftjjst/i_made_a_political_compass_test_for_indians/\\r\\nhttps://www.reddit.com/r/india/comments/fhera0/how_were_political_satirists_like_harishankar/'"
      ]
     },
     "execution_count": 6,
     "metadata": {},
     "output_type": "execute_result"
    }
   ],
   "source": [
    "g"
   ]
  },
  {
   "cell_type": "code",
   "execution_count": 7,
   "metadata": {},
   "outputs": [
    {
     "data": {
      "text/plain": [
       "'https://www.reddit.com/r/india/comments/futac9/pitting_a_community_against_a_political_party_is/\\r\\nhttps://theprint.in/india/hit-by-backlash-over-posts-on-lack-of-medical-gear-doctors-go-silent-on-socialmedia/388771/amp&__twitter_impression=true\\r\\nhttps://i.redd.it/yjo9wpy38el41.jpg\\r\\nhttps://www.reddit.com/r/india/comments/flm79b/in_this_trying_time_lets_try_to_be_a_little_less/\\r\\nhttps://www.reddit.com/r/india/comments/g2ct57/a_polite_request_to_all_indians_here/\\r\\nhttps://i.redd.it/hk9o11b8dun41.png\\r\\nhttps://www.reddit.com/r/india/comments/fyccbi/why_do_we_only_question_our_celebrities_and_not/\\r\\nhttps://i.redd.it/fejjkle4i0m41.jpg\\r\\nhttps://www.reddit.com/r/india/comments/ftjjst/i_made_a_political_compass_test_for_indians/\\r\\nhttps://www.reddit.com/r/india/comments/fhera0/how_were_political_satirists_like_harishankar/'"
      ]
     },
     "execution_count": 7,
     "metadata": {},
     "output_type": "execute_result"
    }
   ],
   "source": [
    "g.decode(\"utf-8\")"
   ]
  },
  {
   "cell_type": "code",
   "execution_count": 4,
   "metadata": {},
   "outputs": [
    {
     "data": {
      "text/plain": [
       "str"
      ]
     },
     "execution_count": 4,
     "metadata": {},
     "output_type": "execute_result"
    }
   ],
   "source": [
    "type(g[0])"
   ]
  },
  {
   "cell_type": "code",
   "execution_count": 8,
   "metadata": {},
   "outputs": [],
   "source": [
    "import pickle\n",
    "file = open(\"./automation_json.pkl\", 'rb')\n",
    "\n",
    "# dump information to that file\n",
    "data = pickle.load(file)\n",
    "\n",
    "# close the file\n",
    "file.close()"
   ]
  },
  {
   "cell_type": "code",
   "execution_count": 9,
   "metadata": {},
   "outputs": [
    {
     "data": {
      "text/plain": [
       "{'https://www.reddit.com/r/india/comments/futac9/pitting_a_community_against_a_political_party_is/\\r': 'Political',\n",
       " 'https://www.reddit.com/r/india/comments/flm79b/in_this_trying_time_lets_try_to_be_a_little_less/\\r': 'AskIndia',\n",
       " 'https://www.reddit.com/r/india/comments/g2ct57/a_polite_request_to_all_indians_here/\\r': 'Political',\n",
       " 'https://www.reddit.com/r/india/comments/fyccbi/why_do_we_only_question_our_celebrities_and_not/\\r': 'Political',\n",
       " 'https://www.reddit.com/r/india/comments/ftjjst/i_made_a_political_compass_test_for_indians/\\r': 'Political',\n",
       " 'https://www.reddit.com/r/india/comments/fhera0/how_were_political_satirists_like_harishankar/': 'Political'}"
      ]
     },
     "execution_count": 9,
     "metadata": {},
     "output_type": "execute_result"
    }
   ],
   "source": [
    "data"
   ]
  },
  {
   "cell_type": "code",
   "execution_count": null,
   "metadata": {},
   "outputs": [],
   "source": []
  }
 ],
 "metadata": {
  "kernelspec": {
   "display_name": "Python 3",
   "language": "python",
   "name": "python3"
  },
  "language_info": {
   "codemirror_mode": {
    "name": "ipython",
    "version": 3
   },
   "file_extension": ".py",
   "mimetype": "text/x-python",
   "name": "python",
   "nbconvert_exporter": "python",
   "pygments_lexer": "ipython3",
   "version": "3.7.3"
  }
 },
 "nbformat": 4,
 "nbformat_minor": 2
}
